{
  "metadata": {
    "kernelspec": {
      "name": "python",
      "display_name": "Python (Pyodide)",
      "language": "python"
    },
    "language_info": {
      "codemirror_mode": {
        "name": "python",
        "version": 3
      },
      "file_extension": ".py",
      "mimetype": "text/x-python",
      "name": "python",
      "nbconvert_exporter": "python",
      "pygments_lexer": "ipython3",
      "version": "3.8"
    }
  },
  "nbformat_minor": 5,
  "nbformat": 4,
  "cells": [
    {
      "id": "03316ec8-eab7-45db-849a-d2f7bf8cb673",
      "cell_type": "markdown",
      "source": "# Data Science Tools and Ecosystem",
      "metadata": {}
    },
    {
      "id": "02857826-95ff-4d9f-a24f-d2be66608218",
      "cell_type": "markdown",
      "source": "## Author\nLeo Lee",
      "metadata": {}
    },
    {
      "id": "e6fb1b85-de3d-432f-a0f0-e0172e891d2f",
      "cell_type": "markdown",
      "source": "In this notebook, Data Science Tools and Ecosystem are summarized",
      "metadata": {
        "jp-MarkdownHeadingCollapsed": true
      }
    },
    {
      "id": "a506e13b-6881-43ac-88fa-2a1ec73df33d",
      "cell_type": "markdown",
      "source": "**Objectives:**\n- List popular languages for Data Science.\n- Identify commonly used libraries in Data Science.\n- Create tables for Data Science tools.\n- Perform arithmetic operations in Python.\n- Convert minutes to hours in Python.\n",
      "metadata": {}
    },
    {
      "id": "6ad54710-dcfc-4429-8bbf-8d59efb3ac37",
      "cell_type": "markdown",
      "source": "Some of the most popular languages that Data Scientists use are: \n1. Python\n2. R\n3. SQL",
      "metadata": {}
    },
    {
      "id": "2906e2b6-a35e-4b71-90a0-b87b67b857af",
      "cell_type": "markdown",
      "source": "Some of the most commonly used libraries used by Data Scientists include: \n1. Pandas\n2. NumPy\n3. Matplotlib",
      "metadata": {}
    },
    {
      "id": "69c2e0ff-da67-4355-bfdc-eaa310cdd47c",
      "cell_type": "markdown",
      "source": "| Data Science Tools |\n|--------------------|\n| Jupyter Notebook   |\n| RStudio            |\n| VS Code            |",
      "metadata": {}
    },
    {
      "id": "35a8c11e-a5ed-49c1-bf24-9e4c8b6f2326",
      "cell_type": "markdown",
      "source": "### Below are a few examples of evaluating arithmetic expressions in Python",
      "metadata": {}
    },
    {
      "id": "0ac74fc8-3d8b-44ba-aef1-f210275d524d",
      "cell_type": "code",
      "source": "# This is a simple arithmetic expression to multiply then add integers\n(3 * 4) + 5\n",
      "metadata": {
        "trusted": true
      },
      "outputs": [
        {
          "execution_count": 9,
          "output_type": "execute_result",
          "data": {
            "text/plain": "17"
          },
          "metadata": {}
        }
      ],
      "execution_count": 9
    },
    {
      "id": "5e3604b4-57db-4a08-b750-73528b31726c",
      "cell_type": "code",
      "source": "# This will convert 200 minutes to hours by dividing by 60\n200 / 60\n",
      "metadata": {
        "trusted": true
      },
      "outputs": [
        {
          "execution_count": 10,
          "output_type": "execute_result",
          "data": {
            "text/plain": "3.3333333333333335"
          },
          "metadata": {}
        }
      ],
      "execution_count": 10
    },
    {
      "id": "b064e714-7790-46b3-8084-58770ca734e0",
      "cell_type": "code",
      "source": "",
      "metadata": {
        "trusted": true
      },
      "outputs": [],
      "execution_count": null
    }
  ]
}